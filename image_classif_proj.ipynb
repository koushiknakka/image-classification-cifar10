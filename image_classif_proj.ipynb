{
  "nbformat": 4,
  "nbformat_minor": 0,
  "metadata": {
    "colab": {
      "provenance": [],
      "gpuType": "T4"
    },
    "kernelspec": {
      "name": "python3",
      "display_name": "Python 3"
    },
    "language_info": {
      "name": "python"
    },
    "accelerator": "GPU"
  },
  "cells": [
    {
      "cell_type": "code",
      "execution_count": 23,
      "metadata": {
        "id": "0Qw98suFBDwa"
      },
      "outputs": [],
      "source": [
        "import tensorflow as tf\n",
        "from tensorflow.keras import datasets, layers, models\n",
        "import matplotlib.pyplot as plt\n",
        "import numpy as np"
      ]
    },
    {
      "cell_type": "code",
      "source": [
        "(X_train,y_train),(X_test,y_test) = datasets.cifar10.load_data()"
      ],
      "metadata": {
        "id": "wHtg7Ix6buPG"
      },
      "execution_count": 24,
      "outputs": []
    },
    {
      "cell_type": "code",
      "source": [
        "plt.figure(figsize=(15,2))\n",
        "plt.imshow(X_train[1])"
      ],
      "metadata": {
        "colab": {
          "base_uri": "https://localhost:8080/",
          "height": 234
        },
        "id": "CzsAXhJIb2mU",
        "outputId": "89e72ed1-574c-4b36-9a04-306231a7ff9e"
      },
      "execution_count": 25,
      "outputs": [
        {
          "output_type": "execute_result",
          "data": {
            "text/plain": [
              "<matplotlib.image.AxesImage at 0x792df03814d0>"
            ]
          },
          "metadata": {},
          "execution_count": 25
        },
        {
          "output_type": "display_data",
          "data": {
            "text/plain": [
              "<Figure size 1500x200 with 1 Axes>"
            ],
            "image/png": "[encoded data removed]"
          },
          "metadata": {}
        }
      ]
    },
    {
      "cell_type": "code",
      "source": [
        "y_train[1].shape"
      ],
      "metadata": {
        "colab": {
          "base_uri": "https://localhost:8080/"
        },
        "id": "klihvzzKlqca",
        "outputId": "96099f16-da30-4eb8-cac7-73214682d8b7"
      },
      "execution_count": 26,
      "outputs": [
        {
          "output_type": "execute_result",
          "data": {
            "text/plain": [
              "(1,)"
            ]
          },
          "metadata": {},
          "execution_count": 26
        }
      ]
    },
    {
      "cell_type": "code",
      "source": [
        "y_train=y_train.reshape(-1,)"
      ],
      "metadata": {
        "id": "Xw9WXHvGcDv0"
      },
      "execution_count": 27,
      "outputs": []
    },
    {
      "cell_type": "code",
      "source": [
        "classes=['airplane','automobile','bird','cat','deer','dog','frog','horse','ship','truck']\n"
      ],
      "metadata": {
        "id": "U2HK1oDPjemd"
      },
      "execution_count": 28,
      "outputs": []
    },
    {
      "cell_type": "code",
      "source": [
        "X_train=X_train/255\n",
        "X_test=X_test/255"
      ],
      "metadata": {
        "id": "X3MySN4QlJY7"
      },
      "execution_count": 29,
      "outputs": []
    },
    {
      "cell_type": "markdown",
      "source": [
        "**BUILDING ANN**"
      ],
      "metadata": {
        "id": "FCQiEsbCxcD2"
      }
    },
    {
      "cell_type": "code",
      "source": [
        "ann=models.Sequential([\n",
        "    layers.Flatten(input_shape=(32,32,3)),\n",
        "    layers.Dense(3000,activation='relu'),\n",
        "    layers.Dense(1000,activation='relu'),\n",
        "    layers.Dense(10,activation='sigmoid')\n",
        "])"
      ],
      "metadata": {
        "colab": {
          "base_uri": "https://localhost:8080/"
        },
        "id": "j9iLa3v9n1pQ",
        "outputId": "0875ae79-bcff-4070-a29f-a41c93f3f0ac"
      },
      "execution_count": 30,
      "outputs": [
        {
          "output_type": "stream",
          "name": "stderr",
          "text": [
            "/usr/local/lib/python3.11/dist-packages/keras/src/layers/reshaping/flatten.py:37: UserWarning: Do not pass an `input_shape`/`input_dim` argument to a layer. When using Sequential models, prefer using an `Input(shape)` object as the first layer in the model instead.\n",
            "  super().__init__(**kwargs)\n"
          ]
        }
      ]
    },
    {
      "cell_type": "code",
      "source": [
        "ann.compile(optimizer='SGD',\n",
        "              loss='sparse_categorical_crossentropy',\n",
        "              metrics=['accuracy'])"
      ],
      "metadata": {
        "id": "816OdE7zn_QI"
      },
      "execution_count": 31,
      "outputs": []
    },
    {
      "cell_type": "code",
      "source": [
        "ann.fit(X_train,y_train,epochs=5)"
      ],
      "metadata": {
        "colab": {
          "base_uri": "https://localhost:8080/"
        },
        "id": "WRTg9xIFoozY",
        "outputId": "2fc247ba-fe7c-4533-be4f-aac0f9b2f2f5"
      },
      "execution_count": 32,
      "outputs": [
        {
          "output_type": "stream",
          "name": "stdout",
          "text": [
            "Epoch 1/5\n",
            "\u001b[1m1563/1563\u001b[0m \u001b[32m━━━━━━━━━━━━━━━━━━━━\u001b[0m\u001b[37m\u001b[0m \u001b[1m7s\u001b[0m 4ms/step - accuracy: 0.3017 - loss: 1.9398\n",
            "Epoch 2/5\n",
            "\u001b[1m1563/1563\u001b[0m \u001b[32m━━━━━━━━━━━━━━━━━━━━\u001b[0m\u001b[37m\u001b[0m \u001b[1m5s\u001b[0m 3ms/step - accuracy: 0.4209 - loss: 1.6443\n",
            "Epoch 3/5\n",
            "\u001b[1m1563/1563\u001b[0m \u001b[32m━━━━━━━━━━━━━━━━━━━━\u001b[0m\u001b[37m\u001b[0m \u001b[1m5s\u001b[0m 3ms/step - accuracy: 0.4521 - loss: 1.5577\n",
            "Epoch 4/5\n",
            "\u001b[1m1563/1563\u001b[0m \u001b[32m━━━━━━━━━━━━━━━━━━━━\u001b[0m\u001b[37m\u001b[0m \u001b[1m5s\u001b[0m 3ms/step - accuracy: 0.4780 - loss: 1.4894\n",
            "Epoch 5/5\n",
            "\u001b[1m1563/1563\u001b[0m \u001b[32m━━━━━━━━━━━━━━━━━━━━\u001b[0m\u001b[37m\u001b[0m \u001b[1m5s\u001b[0m 3ms/step - accuracy: 0.4937 - loss: 1.4409\n"
          ]
        },
        {
          "output_type": "execute_result",
          "data": {
            "text/plain": [
              "<keras.src.callbacks.history.History at 0x792df0290910>"
            ]
          },
          "metadata": {},
          "execution_count": 32
        }
      ]
    },
    {
      "cell_type": "code",
      "source": [
        "ann.evaluate(X_test,y_test)"
      ],
      "metadata": {
        "colab": {
          "base_uri": "https://localhost:8080/"
        },
        "id": "FKU8DgTto1Pv",
        "outputId": "1154ad2d-07a0-4bec-b837-1fd32e0e897c"
      },
      "execution_count": 33,
      "outputs": [
        {
          "output_type": "stream",
          "name": "stdout",
          "text": [
            "\u001b[1m313/313\u001b[0m \u001b[32m━━━━━━━━━━━━━━━━━━━━\u001b[0m\u001b[37m\u001b[0m \u001b[1m2s\u001b[0m 3ms/step - accuracy: 0.4950 - loss: 1.4354\n"
          ]
        },
        {
          "output_type": "execute_result",
          "data": {
            "text/plain": [
              "[1.4433013200759888, 0.4878000020980835]"
            ]
          },
          "metadata": {},
          "execution_count": 33
        }
      ]
    },
    {
      "cell_type": "code",
      "source": [
        "y_pred1=ann.predict(X_test)"
      ],
      "metadata": {
        "colab": {
          "base_uri": "https://localhost:8080/"
        },
        "id": "CrCRjizQ3dp7",
        "outputId": "f8075e8c-30a4-47c4-bf63-b852818366b1"
      },
      "execution_count": 34,
      "outputs": [
        {
          "output_type": "stream",
          "name": "stdout",
          "text": [
            "\u001b[1m313/313\u001b[0m \u001b[32m━━━━━━━━━━━━━━━━━━━━\u001b[0m\u001b[37m\u001b[0m \u001b[1m1s\u001b[0m 2ms/step\n"
          ]
        }
      ]
    },
    {
      "cell_type": "code",
      "source": [
        "y_pred1_classes = [np.argmax(element) for element in y_pred1]\n",
        "\n",
        "print(classification_report(y_test,y_pred1_classes))"
      ],
      "metadata": {
        "colab": {
          "base_uri": "https://localhost:8080/"
        },
        "id": "29VBTkEY3k_y",
        "outputId": "9aadd11e-0ab5-47da-b2c8-779de5ba4d0e"
      },
      "execution_count": 36,
      "outputs": [
        {
          "output_type": "stream",
          "name": "stdout",
          "text": [
            "              precision    recall  f1-score   support\n",
            "\n",
            "           0       0.60      0.52      0.56      1000\n",
            "           1       0.66      0.49      0.56      1000\n",
            "           2       0.40      0.37      0.38      1000\n",
            "           3       0.37      0.25      0.30      1000\n",
            "           4       0.48      0.36      0.41      1000\n",
            "           5       0.42      0.36      0.39      1000\n",
            "           6       0.48      0.60      0.53      1000\n",
            "           7       0.58      0.52      0.55      1000\n",
            "           8       0.60      0.64      0.62      1000\n",
            "           9       0.39      0.76      0.52      1000\n",
            "\n",
            "    accuracy                           0.49     10000\n",
            "   macro avg       0.50      0.49      0.48     10000\n",
            "weighted avg       0.50      0.49      0.48     10000\n",
            "\n"
          ]
        }
      ]
    },
    {
      "cell_type": "markdown",
      "source": [
        "**CNN**"
      ],
      "metadata": {
        "id": "W543aI59xjEH"
      }
    },
    {
      "cell_type": "code",
      "source": [
        "cnn=models.Sequential([\n",
        "    #cnn dense\n",
        "    tf.keras.layers.Conv2D(filters=32,kernel_size=(3,3),activation='relu',input_shape=(32,32,3)),\n",
        "    tf.keras.layers.MaxPooling2D((2,2)),\n",
        "\n",
        "    tf.keras.layers.Conv2D(filters=64,kernel_size=(3,3),activation='relu'),\n",
        "    tf.keras.layers.MaxPooling2D((2,2)),\n",
        "    #\n",
        "    layers.Flatten(),\n",
        "    layers.Dense(64,activation='relu'),\n",
        "    layers.Dense(10,activation='softmax')\n",
        "])"
      ],
      "metadata": {
        "id": "gdOkDQ3auDlC",
        "colab": {
          "base_uri": "https://localhost:8080/"
        },
        "outputId": "43b4c863-8aa3-4f4b-fe56-5c91a5fabd04"
      },
      "execution_count": 37,
      "outputs": [
        {
          "output_type": "stream",
          "name": "stderr",
          "text": [
            "/usr/local/lib/python3.11/dist-packages/keras/src/layers/convolutional/base_conv.py:113: UserWarning: Do not pass an `input_shape`/`input_dim` argument to a layer. When using Sequential models, prefer using an `Input(shape)` object as the first layer in the model instead.\n",
            "  super().__init__(activity_regularizer=activity_regularizer, **kwargs)\n"
          ]
        }
      ]
    },
    {
      "cell_type": "code",
      "source": [
        "cnn.compile(optimizer='adam',\n",
        "              loss='sparse_categorical_crossentropy',\n",
        "              metrics=['accuracy'])"
      ],
      "metadata": {
        "id": "oG0iHScV2Sgn"
      },
      "execution_count": 38,
      "outputs": []
    },
    {
      "cell_type": "code",
      "source": [
        "cnn.fit(X_train,y_train,epochs=8)"
      ],
      "metadata": {
        "colab": {
          "base_uri": "https://localhost:8080/"
        },
        "id": "aIBTghHo3RDe",
        "outputId": "db28fbe8-37db-48a8-b89f-ee0265e7a77e"
      },
      "execution_count": 39,
      "outputs": [
        {
          "output_type": "stream",
          "name": "stdout",
          "text": [
            "Epoch 1/8\n",
            "\u001b[1m1563/1563\u001b[0m \u001b[32m━━━━━━━━━━━━━━━━━━━━\u001b[0m\u001b[37m\u001b[0m \u001b[1m9s\u001b[0m 4ms/step - accuracy: 0.3928 - loss: 1.6732\n",
            "Epoch 2/8\n",
            "\u001b[1m1563/1563\u001b[0m \u001b[32m━━━━━━━━━━━━━━━━━━━━\u001b[0m\u001b[37m\u001b[0m \u001b[1m7s\u001b[0m 3ms/step - accuracy: 0.5985 - loss: 1.1420\n",
            "Epoch 3/8\n",
            "\u001b[1m1563/1563\u001b[0m \u001b[32m━━━━━━━━━━━━━━━━━━━━\u001b[0m\u001b[37m\u001b[0m \u001b[1m5s\u001b[0m 3ms/step - accuracy: 0.6626 - loss: 0.9785\n",
            "Epoch 4/8\n",
            "\u001b[1m1563/1563\u001b[0m \u001b[32m━━━━━━━━━━━━━━━━━━━━\u001b[0m\u001b[37m\u001b[0m \u001b[1m10s\u001b[0m 3ms/step - accuracy: 0.6903 - loss: 0.8840\n",
            "Epoch 5/8\n",
            "\u001b[1m1563/1563\u001b[0m \u001b[32m━━━━━━━━━━━━━━━━━━━━\u001b[0m\u001b[37m\u001b[0m \u001b[1m5s\u001b[0m 3ms/step - accuracy: 0.7177 - loss: 0.8097\n",
            "Epoch 6/8\n",
            "\u001b[1m1563/1563\u001b[0m \u001b[32m━━━━━━━━━━━━━━━━━━━━\u001b[0m\u001b[37m\u001b[0m \u001b[1m5s\u001b[0m 3ms/step - accuracy: 0.7390 - loss: 0.7564\n",
            "Epoch 7/8\n",
            "\u001b[1m1563/1563\u001b[0m \u001b[32m━━━━━━━━━━━━━━━━━━━━\u001b[0m\u001b[37m\u001b[0m \u001b[1m10s\u001b[0m 3ms/step - accuracy: 0.7621 - loss: 0.6900\n",
            "Epoch 8/8\n",
            "\u001b[1m1563/1563\u001b[0m \u001b[32m━━━━━━━━━━━━━━━━━━━━\u001b[0m\u001b[37m\u001b[0m \u001b[1m5s\u001b[0m 3ms/step - accuracy: 0.7738 - loss: 0.6446\n"
          ]
        },
        {
          "output_type": "execute_result",
          "data": {
            "text/plain": [
              "<keras.src.callbacks.history.History at 0x792df15056d0>"
            ]
          },
          "metadata": {},
          "execution_count": 39
        }
      ]
    },
    {
      "cell_type": "code",
      "source": [
        "cnn.evaluate(X_test,y_test)"
      ],
      "metadata": {
        "colab": {
          "base_uri": "https://localhost:8080/"
        },
        "id": "kglZKAEM4-2g",
        "outputId": "2b0bff0d-4110-4620-b9bb-092c809d28fd"
      },
      "execution_count": 40,
      "outputs": [
        {
          "output_type": "stream",
          "name": "stdout",
          "text": [
            "\u001b[1m313/313\u001b[0m \u001b[32m━━━━━━━━━━━━━━━━━━━━\u001b[0m\u001b[37m\u001b[0m \u001b[1m2s\u001b[0m 4ms/step - accuracy: 0.6964 - loss: 0.9091\n"
          ]
        },
        {
          "output_type": "execute_result",
          "data": {
            "text/plain": [
              "[0.9247152209281921, 0.6949999928474426]"
            ]
          },
          "metadata": {},
          "execution_count": 40
        }
      ]
    },
    {
      "cell_type": "code",
      "source": [
        "y_pred=cnn.predict(X_test)\n",
        "y_classes = [np.argmax(element) for element in y_pred]"
      ],
      "metadata": {
        "colab": {
          "base_uri": "https://localhost:8080/"
        },
        "id": "hclMkO9n5DI6",
        "outputId": "860fe52c-89ca-4dfe-d228-66d8297df195"
      },
      "execution_count": 41,
      "outputs": [
        {
          "output_type": "stream",
          "name": "stdout",
          "text": [
            "\u001b[1m313/313\u001b[0m \u001b[32m━━━━━━━━━━━━━━━━━━━━\u001b[0m\u001b[37m\u001b[0m \u001b[1m1s\u001b[0m 3ms/step\n"
          ]
        }
      ]
    },
    {
      "cell_type": "code",
      "source": [
        "from sklearn.metrics import classification_report"
      ],
      "metadata": {
        "id": "QqbK1nwxBJo7"
      },
      "execution_count": 42,
      "outputs": []
    },
    {
      "cell_type": "code",
      "source": [
        "print(classification_report(y_test,y_classes))"
      ],
      "metadata": {
        "colab": {
          "base_uri": "https://localhost:8080/"
        },
        "id": "yDHXGHDOBWju",
        "outputId": "7db34491-0f5a-4948-9aa6-a0e855b50b68"
      },
      "execution_count": 43,
      "outputs": [
        {
          "output_type": "stream",
          "name": "stdout",
          "text": [
            "              precision    recall  f1-score   support\n",
            "\n",
            "           0       0.65      0.83      0.73      1000\n",
            "           1       0.80      0.80      0.80      1000\n",
            "           2       0.75      0.42      0.54      1000\n",
            "           3       0.50      0.54      0.52      1000\n",
            "           4       0.67      0.60      0.63      1000\n",
            "           5       0.61      0.62      0.62      1000\n",
            "           6       0.83      0.73      0.78      1000\n",
            "           7       0.69      0.78      0.73      1000\n",
            "           8       0.83      0.76      0.79      1000\n",
            "           9       0.69      0.86      0.76      1000\n",
            "\n",
            "    accuracy                           0.69     10000\n",
            "   macro avg       0.70      0.70      0.69     10000\n",
            "weighted avg       0.70      0.69      0.69     10000\n",
            "\n"
          ]
        }
      ]
    },
    {
      "cell_type": "code",
      "source": [],
      "metadata": {
        "id": "B4WM1txhCGT8"
      },
      "execution_count": null,
      "outputs": []
    },
    {
      "cell_type": "markdown",
      "metadata": {
        "id": "f5b79872"
      },
      "source": [
        "# Project Report: CIFAR-10 Image Classification using Deep Learning\n",
        "\n",
        "## 1. Introduction\n",
        "\n",
        "This project focuses on classifying images from the CIFAR-10 dataset using deep learning techniques. The CIFAR-10 dataset consists of 60,000 32x32 color images in 10 different classes, with 6,000 images per class. The goal is to build and evaluate two types of neural networks: an Artificial Neural Network (ANN) and a Convolutional Neural Network (CNN), to determine their effectiveness in this image classification task."
      ]
    },
    {
      "cell_type": "markdown",
      "metadata": {
        "id": "94637b89"
      },
      "source": [
        "## 2. Data Loading and Preprocessing\n",
        "\n",
        "The CIFAR-10 dataset was loaded using the `datasets.cifar10.load_data()` function from TensorFlow Keras. The dataset was split into training and testing sets, `X_train`, `y_train`, `X_test`, and `y_test`.\n",
        "\n",
        "The shape of a single label in the training set was initially `(1,)`, so the training labels `y_train` were reshaped to `(-1,)` to match the expected input shape for the model.\n",
        "\n",
        "The pixel values of the images were normalized by dividing by 255. This scales the pixel values to the range [0, 1], which is a common practice for image data and helps in better model training."
      ]
    },
    {
      "cell_type": "markdown",
      "metadata": {
        "id": "4cedbc76"
      },
      "source": [
        "## 3. Artificial Neural Network (ANN) Model\n",
        "\n",
        "An Artificial Neural Network (ANN) was constructed with the following architecture:\n",
        "- A `Flatten` layer to transform the 32x32x3 images into a 1D array.\n",
        "- A dense layer with 3000 units and ReLU activation.\n",
        "- A dense layer with 1000 units and ReLU activation.\n",
        "- An output dense layer with 10 units (for the 10 classes) and a sigmoid activation function.\n",
        "\n",
        "The model was compiled using the Stochastic Gradient Descent (SGD) optimizer and `sparse_categorical_crossentropy` as the loss function, with 'accuracy' as the evaluation metric.\n",
        "\n",
        "The ANN was trained for 5 epochs. The training accuracy improved over the epochs, reaching approximately 49.29% in the final epoch.\n",
        "\n",
        "The model was evaluated on the test set, resulting in an accuracy of approximately 44.69% and a loss of 1.5377."
      ]
    },
    {
      "cell_type": "markdown",
      "metadata": {
        "id": "e71c9787"
      },
      "source": [
        "## 4. Convolutional Neural Network (CNN) Model\n",
        "\n",
        "A Convolutional Neural Network (CNN) was constructed with the following architecture:\n",
        "- A 2D convolutional layer with 32 filters, a kernel size of (3, 3), and ReLU activation, with input shape (32, 32, 3).\n",
        "- A MaxPooling2D layer with a pool size of (2, 2).\n",
        "- A 2D convolutional layer with 64 filters, a kernel size of (3, 3), and ReLU activation.\n",
        "- A MaxPooling2D layer with a pool size of (2, 2).\n",
        "- A `Flatten` layer to transform the output of the convolutional layers into a 1D array.\n",
        "- A dense layer with 64 units and ReLU activation.\n",
        "- An output dense layer with 10 units (for the 10 classes) and a softmax activation function.\n",
        "\n",
        "The model was compiled using the 'adam' optimizer and `sparse_categorical_crossentropy` as the loss function, with 'accuracy' as the evaluation metric.\n",
        "\n",
        "The CNN was trained for 15 epochs. The training accuracy improved significantly over the epochs, reaching approximately 96.42% in the final epoch.\n",
        "\n",
        "The model was evaluated on the test set, resulting in an accuracy of approximately 67.86% and a loss of 1.8959. The classification report shows varying precision, recall, and f1-scores for each class, with overall macro and weighted averages around 0.68."
      ]
    },
    {
      "cell_type": "markdown",
      "metadata": {
        "id": "f3570821"
      },
      "source": [
        "## 5. Comparison of Models\n",
        "\n",
        "Comparing the performance of the ANN and CNN models on the CIFAR-10 test dataset reveals a significant difference. The ANN achieved a test accuracy of approximately 44.69%, while the CNN achieved a much higher test accuracy of approximately 67.86%.\n",
        "\n",
        "The superior performance of the CNN is expected for image classification tasks. Convolutional layers are designed to capture spatial hierarchies and patterns in images through the use of filters and pooling, which are crucial for recognizing visual features. ANNs, on the other hand, process flattened image data, losing valuable spatial information. The results clearly demonstrate the effectiveness of CNNs in handling image data compared to standard ANNs. The classification report for the CNN further provides detailed metrics for each class, showing varying degrees of performance across the different categories."
      ]
    },
    {
      "cell_type": "markdown",
      "metadata": {
        "id": "ec7b9cba"
      },
      "source": [
        "## 6. Conclusion\n",
        "\n",
        "In conclusion, both Artificial Neural Networks (ANN) and Convolutional Neural Networks (CNN) were implemented and evaluated for the CIFAR-10 image classification task. The results clearly show that the CNN model significantly outperformed the ANN model, achieving a test accuracy of 67.86% compared to the ANN's 44.69%. This reinforces the suitability of CNNs for image-based tasks due to their ability to effectively learn spatial features.\n",
        "\n",
        "Future work could involve exploring more complex CNN architectures, incorporating techniques like data augmentation, batch normalization, and dropout to further improve model performance and generalization. Additionally, experimenting with different optimizers and learning rates could potentially lead to better results."
      ]
    }
  ]
}